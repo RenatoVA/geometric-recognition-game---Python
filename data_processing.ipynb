{
 "cells": [
  {
   "cell_type": "code",
   "execution_count": 11,
   "metadata": {},
   "outputs": [],
   "source": [
    "from PIL import Image\n",
    "import numpy as np\n",
    "import os"
   ]
  },
  {
   "cell_type": "code",
   "execution_count": 12,
   "metadata": {},
   "outputs": [
    {
     "name": "stdout",
     "output_type": "stream",
     "text": [
      "Agrupamiento de datos completado.\n"
     ]
    }
   ],
   "source": [
    "directorios=[\"data/train/circle\",\"data/train/kite\",\"data/train/parallelogram\",\"data/train/rectangle\",\"data/train/rhombus\",\"data/train/square\",\"data/train/trapezoid\",\"data/train/triangle\"]\n",
    "matrices_imagenes=[]\n",
    "for i in directorios:\n",
    "  for filename in os.listdir(i):\n",
    "      imagen = Image.open(i+'/'+filename)\n",
    "      imagen = imagen.resize((50, 50),Image.Resampling.LANCZOS)#reescalando imagen a una de 50x50 pixeles\n",
    "      imagen = imagen.convert('L')#aplicando filtro de rescalado en grises\n",
    "      matriz_imagen=np.array(imagen)#convirtiendo imagen a una matriz de numpy\n",
    "      matrices_imagenes.append(matriz_imagen)\n",
    "\n",
    "array_imagenes = np.array(matrices_imagenes)\n",
    "# Guardar el array en un archivo .npy\n",
    "np.save(\"dataset.npy\", array_imagenes)\n",
    "print(\"Agrupamiento de datos completado.\")"
   ]
  },
  {
   "cell_type": "code",
   "execution_count": 13,
   "metadata": {},
   "outputs": [
    {
     "name": "stdout",
     "output_type": "stream",
     "text": [
      "Agrupamiento de datos completado.\n"
     ]
    }
   ],
   "source": [
    "directorios=[\"data/test/circle\",\"data/test/kite\",\"data/test/parallelogram\",\"data/test/rectangle\",\"data/test/rhombus\",\"data/test/square\",\"data/test/trapezoid\",\"data/test/triangle\"]\n",
    "matrices_imagenes=[]\n",
    "for i in directorios:\n",
    "  for filename in os.listdir(i):\n",
    "      imagen = Image.open(i+'/'+filename)\n",
    "      imagen = imagen.resize((50, 50),Image.Resampling.LANCZOS)#reescalando imagen a una de 50x50 pixeles\n",
    "      imagen = imagen.convert('L')#aplicando filtro de rescalado en grises\n",
    "      matriz_imagen=np.array(imagen)#convirtiendo imagen a una matriz de numpy\n",
    "      matrices_imagenes.append(matriz_imagen)\n",
    "\n",
    "array_imagenes = np.array(matrices_imagenes)\n",
    "# Guardar el array en un archivo .npy\n",
    "np.save(\"dataset_test.npy\", array_imagenes)\n",
    "print(\"Agrupamiento de datos completado.\")"
   ]
  },
  {
   "cell_type": "code",
   "execution_count": null,
   "metadata": {},
   "outputs": [],
   "source": [
    "directorios=[\"data/val/circle\",\"data/val/kite\",\"data/val/parallelogram\",\"data/val/rectangle\",\"data/val/rhombus\",\"data/val/square\",\"data/val/trapezoid\",\"data/val/triangle\"]\n",
    "matrices_imagenes=[]\n",
    "for i in directorios:\n",
    "  for filename in os.listdir(i):\n",
    "      imagen = Image.open(i+'/'+filename)\n",
    "      imagen = imagen.resize((50, 50),Image.Resampling.LANCZOS)#reescalando imagen a una de 50x50 pixeles\n",
    "      imagen = imagen.convert('L')#aplicando filtro de reescalado en grises\n",
    "      matriz_imagen=np.array(imagen)#convirtiendo imagen a una matriz de numpy\n",
    "      matrices_imagenes.append(matriz_imagen)\n",
    "\n",
    "array_imagenes = np.array(matrices_imagenes)\n",
    "# Guardar el array en un archivo .npy\n",
    "np.save(\"dataset_val.npy\", array_imagenes)\n",
    "print(\"Agrupamiento de datos completado.\")"
   ]
  }
 ],
 "metadata": {
  "kernelspec": {
   "display_name": "Python 3",
   "language": "python",
   "name": "python3"
  },
  "language_info": {
   "codemirror_mode": {
    "name": "ipython",
    "version": 3
   },
   "file_extension": ".py",
   "mimetype": "text/x-python",
   "name": "python",
   "nbconvert_exporter": "python",
   "pygments_lexer": "ipython3",
   "version": "3.11.4"
  }
 },
 "nbformat": 4,
 "nbformat_minor": 2
}
